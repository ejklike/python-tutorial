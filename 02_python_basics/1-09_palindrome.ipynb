{
 "cells": [
  {
   "cell_type": "markdown",
   "id": "8cd1298f-a281-45c0-a8a6-9c79e6106dc2",
   "metadata": {},
   "source": [
    "# Palindrome Checker\n",
    "\n",
    "<img src=\"https://media.geeksforgeeks.org/wp-content/uploads/20230912120025/palindrome-string-in-cpp.png\" width=300>\n",
    "\n",
    "\n",
    "Write a function `palindrome_checker()` that takes a word as input and returns `True` if it's a palindrome (reads the same forwards and backward), and `False` otherwise. You should ignore spaces, punctuation, and capitalization.\n",
    "\n",
    "Example:\n",
    "\n",
    "- `\"racecar\"` should return `True`\n",
    "- `\"A man, a plan, a canal: Panama\"` should return `True`\n",
    "- `\"hello\"` should return `False`"
   ]
  },
  {
   "cell_type": "code",
   "execution_count": 1,
   "id": "70808479-702f-4706-b797-3648179ad01b",
   "metadata": {},
   "outputs": [],
   "source": [
    "def palindrome_checker(input_str):\n",
    "    # your code here\n",
    "    # ...\n"
   ]
  },
  {
   "cell_type": "code",
   "execution_count": 2,
   "id": "3574910a-65ab-4cf8-9f3b-de9514c79e1e",
   "metadata": {},
   "outputs": [
    {
     "data": {
      "text/plain": [
       "True"
      ]
     },
     "execution_count": 2,
     "metadata": {},
     "output_type": "execute_result"
    }
   ],
   "source": [
    "palindrome_checker(\"racecar\")"
   ]
  },
  {
   "cell_type": "code",
   "execution_count": 3,
   "id": "6aa9b4d7-c981-409e-8a04-f175efc031ee",
   "metadata": {},
   "outputs": [
    {
     "name": "stdout",
     "output_type": "stream",
     "text": [
      "True\n"
     ]
    }
   ],
   "source": [
    "palindrome_checker(\"A man, a plan, a canal: Panama\")"
   ]
  },
  {
   "cell_type": "code",
   "execution_count": 4,
   "id": "1756a48e-c536-4b7d-bbcc-c85f4a4bd3ef",
   "metadata": {},
   "outputs": [
    {
     "data": {
      "text/plain": [
       "False"
      ]
     },
     "execution_count": 4,
     "metadata": {},
     "output_type": "execute_result"
    }
   ],
   "source": [
    "palindrome_checker(\"hello\")"
   ]
  },
  {
   "cell_type": "code",
   "execution_count": null,
   "id": "48ff7627-f00d-4b89-9c5a-e7fdc2695353",
   "metadata": {},
   "outputs": [],
   "source": []
  }
 ],
 "metadata": {
  "kernelspec": {
   "display_name": "Python 3 (ipykernel)",
   "language": "python",
   "name": "python3"
  },
  "language_info": {
   "codemirror_mode": {
    "name": "ipython",
    "version": 3
   },
   "file_extension": ".py",
   "mimetype": "text/x-python",
   "name": "python",
   "nbconvert_exporter": "python",
   "pygments_lexer": "ipython3",
   "version": "3.12.3"
  }
 },
 "nbformat": 4,
 "nbformat_minor": 5
}
