{
 "cells": [
  {
   "cell_type": "markdown",
   "id": "cb282771-0f8e-4705-9e35-fa7587512286",
   "metadata": {},
   "source": [
    "# Customer Discount Calculator\n",
    "\n",
    "Write a program that calculates a customer's total after a discount is applied. The program should ask for the total purchase amount and apply the following discounts:\n",
    "\n",
    "- Purchases over `$50` get a `5%` discount.\n",
    "\n",
    "- Purchases over `$100` get a `10%` discount.\n",
    "\n",
    "- Purchases under `$50` get no discount.\n",
    "\n",
    "The program should print the original total, the discount amount, and the final price.\n",
    "\n",
    "- Example 1:\n",
    "\n",
    "    - Input: `80`\n",
    "    \n",
    "    - Output: `Original Total: $80.00, Discount: $4.00, Final Price: $76.00`\n",
    "\n",
    "- Example 2:\n",
    "\n",
    "    - Input: `120`\n",
    "    \n",
    "    - Output: `Original Total: $120.00, Discount: $12.00, Final Price: $108.00`"
   ]
  },
  {
   "cell_type": "code",
   "execution_count": 1,
   "id": "dcfa36cb-e8a1-4ae3-a6bf-74324b5fb534",
   "metadata": {},
   "outputs": [],
   "source": [
    "def customer_discount_calculator(total):\n",
    "    # your code here\n",
    "    # ...\n"
   ]
  },
  {
   "cell_type": "code",
   "execution_count": 2,
   "id": "ac8a632b-5cff-41f2-b38b-3fe45936d16a",
   "metadata": {},
   "outputs": [
    {
     "name": "stdout",
     "output_type": "stream",
     "text": [
      "Original Total: $80.00, Discount: $4.00, Final Price: $76.00\n"
     ]
    }
   ],
   "source": [
    "customer_discount_calculator(80)"
   ]
  },
  {
   "cell_type": "code",
   "execution_count": 3,
   "id": "7257e4b8-e72a-473d-9e6f-44f51b382449",
   "metadata": {},
   "outputs": [
    {
     "name": "stdout",
     "output_type": "stream",
     "text": [
      "Original Total: $120.00, Discount: $12.00, Final Price: $108.00\n"
     ]
    }
   ],
   "source": [
    "customer_discount_calculator(120)"
   ]
  }
 ],
 "metadata": {
  "kernelspec": {
   "display_name": "Python 3 (ipykernel)",
   "language": "python",
   "name": "python3"
  },
  "language_info": {
   "codemirror_mode": {
    "name": "ipython",
    "version": 3
   },
   "file_extension": ".py",
   "mimetype": "text/x-python",
   "name": "python",
   "nbconvert_exporter": "python",
   "pygments_lexer": "ipython3",
   "version": "3.12.3"
  }
 },
 "nbformat": 4,
 "nbformat_minor": 5
}
