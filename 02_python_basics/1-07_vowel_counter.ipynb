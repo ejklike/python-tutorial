{
 "cells": [
  {
   "cell_type": "markdown",
   "id": "5f636444-f228-458c-a7d3-36de0b18833a",
   "metadata": {},
   "source": [
    "# Vowel Counter\n",
    "\n",
    "Create a function `vowel_counter()` that takes a string as input and counts the number of vowels (`a`, `e`, `i`, `o`, `u`) in it. The function should be case-insensitive.\n",
    "\n",
    "Example:\n",
    "\n",
    "- Input: `\"Programming is fun!\"`\n",
    "\n",
    "- Output: `There are 5 vowels.`"
   ]
  },
  {
   "cell_type": "code",
   "execution_count": null,
   "id": "4cb7acc0-3efc-4fea-a2ba-9ad35e331ceb",
   "metadata": {},
   "outputs": [],
   "source": [
    "def vowel_counter(input_str):\n",
    "    # your code here\n",
    "    # ...\n"
   ]
  },
  {
   "cell_type": "code",
   "execution_count": null,
   "id": "9673e3a3-f5b4-4f62-a58c-cbf3018d548d",
   "metadata": {},
   "outputs": [
    {
     "name": "stdout",
     "output_type": "stream",
     "text": [
      "There are 5 vowels.\n"
     ]
    }
   ],
   "source": [
    "vowel_counter(\"Programming is fun!\")"
   ]
  }
 ],
 "metadata": {
  "kernelspec": {
   "display_name": "Python 3 (ipykernel)",
   "language": "python",
   "name": "python3"
  },
  "language_info": {
   "codemirror_mode": {
    "name": "ipython",
    "version": 3
   },
   "file_extension": ".py",
   "mimetype": "text/x-python",
   "name": "python",
   "nbconvert_exporter": "python",
   "pygments_lexer": "ipython3",
   "version": "3.12.3"
  }
 },
 "nbformat": 4,
 "nbformat_minor": 5
}
