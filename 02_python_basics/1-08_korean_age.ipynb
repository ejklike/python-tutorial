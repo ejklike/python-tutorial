{
 "cells": [
  {
   "cell_type": "markdown",
   "id": "21215b92-9d8b-4f5d-8588-82fb62f55e0e",
   "metadata": {},
   "source": [
    "# Korean age calculator\n",
    "\n",
    "Write a function takes a person's birth year. It should then calculate and print their Korean age using the formula: \n",
    "\n",
    "```\n",
    "Korean Age = (Current Year - Birth Year) + 1\n",
    "```\n",
    "\n",
    "\n",
    "---\n",
    "> (hint) Use `datetime` library.\n",
    "\n",
    "```python\n",
    "from datetime import datetime\n",
    "this_year = datetime.today().year\n",
    "```\n",
    "---"
   ]
  },
  {
   "cell_type": "code",
   "execution_count": null,
   "id": "d3fe1181-8aab-4bb2-bb8a-55beb72a93c8",
   "metadata": {},
   "outputs": [],
   "source": [
    "from datetime import datetime\n",
    "\n",
    "def korean_age(birth_year):\n",
    "    # your code here\n",
    "    # ...\n"
   ]
  },
  {
   "cell_type": "code",
   "execution_count": null,
   "id": "d01993cb-e16b-467b-8bbe-e2a7c5db9dd8",
   "metadata": {},
   "outputs": [
    {
     "data": {
      "text/plain": [
       "39"
      ]
     },
     "execution_count": 24,
     "metadata": {},
     "output_type": "execute_result"
    }
   ],
   "source": [
    "korean_age(1987)"
   ]
  }
 ],
 "metadata": {
  "kernelspec": {
   "display_name": "Python 3 (ipykernel)",
   "language": "python",
   "name": "python3"
  },
  "language_info": {
   "codemirror_mode": {
    "name": "ipython",
    "version": 3
   },
   "file_extension": ".py",
   "mimetype": "text/x-python",
   "name": "python",
   "nbconvert_exporter": "python",
   "pygments_lexer": "ipython3",
   "version": "3.12.3"
  }
 },
 "nbformat": 4,
 "nbformat_minor": 5
}
