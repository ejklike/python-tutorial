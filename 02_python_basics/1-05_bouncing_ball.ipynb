{
 "cells": [
  {
   "cell_type": "markdown",
   "id": "a21e8d0f-cb10-47c9-a9ee-c06dcdf9ebc7",
   "metadata": {},
   "source": [
    "# Bouncing Ball Calculator\n",
    "\n",
    "A rubber ball is dropped from an initial height of `100` meters. After each bounce, it rebounds to `3/5` of its previous height. Write a function `print_ball_height()` that takes integer `n` as input and calculates and prints the height of the ball after each of its first `n` bounces.\n",
    "\n",
    "Example:\n",
    "- Input: `10`\n",
    "- Output:\n",
    "```\n",
    "Bounce 1: 60.00 meters\n",
    "Bounce 2: 36.00 meters\n",
    "Bounce 3: 21.60 meters\n",
    "Bounce 4: 12.96 meters\n",
    "Bounce 5: 7.78 meters\n",
    "Bounce 6: 4.67 meters\n",
    "Bounce 7: 2.80 meters\n",
    "Bounce 8: 1.68 meters\n",
    "Bounce 9: 1.01 meters\n",
    "Bounce 10: 0.60 meters\n",
    "```"
   ]
  },
  {
   "cell_type": "markdown",
   "id": "ace01901-2b9a-479b-b07e-c991ff71dba0",
   "metadata": {},
   "source": [
    "---\n",
    "Hint: If you want to print a float number with 2 decimals, use a **modifier**, like `.2f` inside a placeholder!\n",
    "\n",
    "Example:\n",
    "\n",
    "```python\n",
    "price = 59.1254\n",
    "txt = f\"The price is {price:.2f} dollars\"\n",
    "print(txt) # \"The price is 59.12 dollars\"\n",
    "```\n",
    "\n",
    "---"
   ]
  },
  {
   "cell_type": "code",
   "execution_count": 1,
   "id": "aed8a40c-5231-42b6-b402-875c0755dd7a",
   "metadata": {},
   "outputs": [],
   "source": [
    "def print_ball_height(n):\n",
    "    # your code here\n",
    "    # ...\n"
   ]
  },
  {
   "cell_type": "code",
   "execution_count": 2,
   "id": "b4d11b5c-f132-437e-89b3-16f58591896d",
   "metadata": {},
   "outputs": [
    {
     "name": "stdout",
     "output_type": "stream",
     "text": [
      "Bounce 1: 60.00 meters\n",
      "Bounce 2: 36.00 meters\n",
      "Bounce 3: 21.60 meters\n",
      "Bounce 4: 12.96 meters\n",
      "Bounce 5: 7.78 meters\n",
      "Bounce 6: 4.67 meters\n",
      "Bounce 7: 2.80 meters\n",
      "Bounce 8: 1.68 meters\n",
      "Bounce 9: 1.01 meters\n",
      "Bounce 10: 0.60 meters\n"
     ]
    }
   ],
   "source": [
    "print_ball_height(10)"
   ]
  }
 ],
 "metadata": {
  "kernelspec": {
   "display_name": "Python 3 (ipykernel)",
   "language": "python",
   "name": "python3"
  },
  "language_info": {
   "codemirror_mode": {
    "name": "ipython",
    "version": 3
   },
   "file_extension": ".py",
   "mimetype": "text/x-python",
   "name": "python",
   "nbconvert_exporter": "python",
   "pygments_lexer": "ipython3",
   "version": "3.12.3"
  }
 },
 "nbformat": 4,
 "nbformat_minor": 5
}
