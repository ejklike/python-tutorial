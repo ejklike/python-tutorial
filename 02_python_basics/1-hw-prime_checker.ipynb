{
 "cells": [
  {
   "cell_type": "markdown",
   "id": "e2bba800-bd7e-46e4-a30d-cc16a3738ad2",
   "metadata": {},
   "source": [
    "## Prime Number Checker\n",
    "\n",
    "A prime number is a number greater than 1 that has no positive divisors other than 1 and itself.\n",
    "\n",
    "Write a function `is_prime` that takes a positive integer as input. The function should return `True` if the number is prime and `False` otherwise."
   ]
  },
  {
   "cell_type": "code",
   "execution_count": 1,
   "id": "6fe91f0f-5beb-47ff-b22f-0972303a18e0",
   "metadata": {},
   "outputs": [],
   "source": [
    "def is_prime(n):\n",
    "    # your code here\n",
    "    # ...\n"
   ]
  },
  {
   "cell_type": "code",
   "execution_count": 2,
   "id": "b9973d0a-c4d0-436b-9806-0a090b68b773",
   "metadata": {},
   "outputs": [
    {
     "data": {
      "text/plain": [
       "True"
      ]
     },
     "execution_count": 2,
     "metadata": {},
     "output_type": "execute_result"
    }
   ],
   "source": [
    "is_prime(3)"
   ]
  },
  {
   "cell_type": "code",
   "execution_count": 3,
   "id": "aac3bbc2-79a5-40ac-8358-5be1070fd6c1",
   "metadata": {},
   "outputs": [
    {
     "data": {
      "text/plain": [
       "False"
      ]
     },
     "execution_count": 3,
     "metadata": {},
     "output_type": "execute_result"
    }
   ],
   "source": [
    "is_prime(33)"
   ]
  },
  {
   "cell_type": "code",
   "execution_count": 7,
   "id": "68ee5512-545b-40d9-a9ce-b34d1f7dffc1",
   "metadata": {},
   "outputs": [
    {
     "data": {
      "text/plain": [
       "True"
      ]
     },
     "execution_count": 7,
     "metadata": {},
     "output_type": "execute_result"
    }
   ],
   "source": [
    "is_prime(12577)"
   ]
  }
 ],
 "metadata": {
  "kernelspec": {
   "display_name": "Python 3 (ipykernel)",
   "language": "python",
   "name": "python3"
  },
  "language_info": {
   "codemirror_mode": {
    "name": "ipython",
    "version": 3
   },
   "file_extension": ".py",
   "mimetype": "text/x-python",
   "name": "python",
   "nbconvert_exporter": "python",
   "pygments_lexer": "ipython3",
   "version": "3.12.3"
  }
 },
 "nbformat": 4,
 "nbformat_minor": 5
}
