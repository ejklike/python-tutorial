{
 "cells": [
  {
   "cell_type": "markdown",
   "id": "a3171582-02b2-49c3-92dd-7aa36dd1318d",
   "metadata": {},
   "source": [
    "# Daechi-dong 7-year-ord exam"
   ]
  },
  {
   "cell_type": "markdown",
   "id": "101ce30d-6f5d-481b-9311-77b213cbc8e3",
   "metadata": {},
   "source": [
    "![](https://storage.enuri.info/pic_upload/knowbox2/202505/02314284820250505a03aded9-a6e8-474f-849e-e17e43343207.jpg)\n",
    "\n",
    "\n",
    "Count the number of `1`s after calculating the following:\n",
    "\n",
    "```\n",
    "9 + 99 + 999 + ... + 99999999999999999999\n",
    "                         (20 digits)\n",
    "```\n"
   ]
  },
  {
   "cell_type": "code",
   "execution_count": 1,
   "id": "3a2a7b68-1cd8-4437-ac64-02818c0cf460",
   "metadata": {},
   "outputs": [],
   "source": [
    "# your code here\n",
    "# ...\n"
   ]
  }
 ],
 "metadata": {
  "kernelspec": {
   "display_name": "Python 3 (ipykernel)",
   "language": "python",
   "name": "python3"
  },
  "language_info": {
   "codemirror_mode": {
    "name": "ipython",
    "version": 3
   },
   "file_extension": ".py",
   "mimetype": "text/x-python",
   "name": "python",
   "nbconvert_exporter": "python",
   "pygments_lexer": "ipython3",
   "version": "3.12.3"
  }
 },
 "nbformat": 4,
 "nbformat_minor": 5
}
