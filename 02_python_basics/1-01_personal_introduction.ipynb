{
 "cells": [
  {
   "cell_type": "markdown",
   "id": "934eb116-d20e-40e2-9ce5-1ad79aa31213",
   "metadata": {},
   "source": [
    "# Personal Introduction\n",
    "\n",
    "Write a function `introduce()` that takes a user's name and age as input. The program should then print a single sentence introducing the user, using the information they provided.\n",
    "\n",
    "Example:\n",
    "\n",
    "- Input:\n",
    "    - Name: `Alice`\n",
    "    - Age: `25`\n",
    "- Output: `My name is Alice. I am 25 years old.`"
   ]
  },
  {
   "cell_type": "code",
   "execution_count": null,
   "id": "c4c6b5b6-b939-4b15-a65c-25a0155ba6de",
   "metadata": {},
   "outputs": [],
   "source": [
    "def introduce(name, age):\n",
    "    # your code here\n",
    "    # ..."
   ]
  },
  {
   "cell_type": "code",
   "execution_count": null,
   "id": "b0045244-218f-4ba7-a919-f25c07714f58",
   "metadata": {},
   "outputs": [
    {
     "name": "stdout",
     "output_type": "stream",
     "text": [
      "My name is Alice. I am 25 years old.\n"
     ]
    }
   ],
   "source": [
    "introduce('Alice', '25')"
   ]
  }
 ],
 "metadata": {
  "kernelspec": {
   "display_name": "Python 3 (ipykernel)",
   "language": "python",
   "name": "python3"
  },
  "language_info": {
   "codemirror_mode": {
    "name": "ipython",
    "version": 3
   },
   "file_extension": ".py",
   "mimetype": "text/x-python",
   "name": "python",
   "nbconvert_exporter": "python",
   "pygments_lexer": "ipython3",
   "version": "3.12.3"
  }
 },
 "nbformat": 4,
 "nbformat_minor": 5
}
