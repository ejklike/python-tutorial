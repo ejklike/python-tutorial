{
 "cells": [
  {
   "cell_type": "markdown",
   "id": "0c4657fe-9f5e-41bc-a576-83c60d3be575",
   "metadata": {},
   "source": [
    "## Sum of Digits\n",
    "\n",
    "Write a function `sum_of_digits` that takes a positive integer as input. The function should calculate and return the sum of its digits.\n"
   ]
  },
  {
   "cell_type": "code",
   "execution_count": 2,
   "id": "88f73cef-d318-49a0-92f8-692ffcfa5db8",
   "metadata": {},
   "outputs": [],
   "source": [
    "def sum_of_digits(n):\n",
    "    # your code here\n",
    "    # ...\n"
   ]
  },
  {
   "cell_type": "code",
   "execution_count": 3,
   "id": "47a3ed3f-8308-4df9-ab28-4156d4fe82ba",
   "metadata": {},
   "outputs": [
    {
     "data": {
      "text/plain": [
       "13"
      ]
     },
     "execution_count": 3,
     "metadata": {},
     "output_type": "execute_result"
    }
   ],
   "source": [
    "sum_of_digits(643)"
   ]
  },
  {
   "cell_type": "code",
   "execution_count": 4,
   "id": "da37c96a-586c-4e26-b205-d278bd445d81",
   "metadata": {},
   "outputs": [
    {
     "data": {
      "text/plain": [
       "21"
      ]
     },
     "execution_count": 4,
     "metadata": {},
     "output_type": "execute_result"
    }
   ],
   "source": [
    "sum_of_digits(47253)"
   ]
  }
 ],
 "metadata": {
  "kernelspec": {
   "display_name": "Python 3 (ipykernel)",
   "language": "python",
   "name": "python3"
  },
  "language_info": {
   "codemirror_mode": {
    "name": "ipython",
    "version": 3
   },
   "file_extension": ".py",
   "mimetype": "text/x-python",
   "name": "python",
   "nbconvert_exporter": "python",
   "pygments_lexer": "ipython3",
   "version": "3.12.3"
  }
 },
 "nbformat": 4,
 "nbformat_minor": 5
}
