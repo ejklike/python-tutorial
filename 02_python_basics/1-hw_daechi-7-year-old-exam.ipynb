{
 "cells": [
  {
   "cell_type": "markdown",
   "id": "a3171582-02b2-49c3-92dd-7aa36dd1318d",
   "metadata": {},
   "source": [
    "# Daechi-dong 7-year-ord exam"
   ]
  },
  {
   "cell_type": "markdown",
   "id": "101ce30d-6f5d-481b-9311-77b213cbc8e3",
   "metadata": {},
   "source": [
    "![](./figs/daechi-7-year-old-exam.png)\n",
    "\n",
    "\n",
    "Count the number of `1`s after calculating the following:\n",
    "\n",
    "```\n",
    "9 + 99 + 999 + ... + 99999999999999999999\n",
    "                         (20 digits)\n",
    "```\n"
   ]
  },
  {
   "cell_type": "code",
   "execution_count": 1,
   "id": "3a2a7b68-1cd8-4437-ac64-02818c0cf460",
   "metadata": {},
   "outputs": [],
   "source": [
    "# your code here\n",
    "# ...\n"
   ]
  }
 ],
 "metadata": {
  "kernelspec": {
   "display_name": "Python 3 (ipykernel)",
   "language": "python",
   "name": "python3"
  },
  "language_info": {
   "codemirror_mode": {
    "name": "ipython",
    "version": 3
   },
   "file_extension": ".py",
   "mimetype": "text/x-python",
   "name": "python",
   "nbconvert_exporter": "python",
   "pygments_lexer": "ipython3",
   "version": "3.12.3"
  }
 },
 "nbformat": 4,
 "nbformat_minor": 5
}
