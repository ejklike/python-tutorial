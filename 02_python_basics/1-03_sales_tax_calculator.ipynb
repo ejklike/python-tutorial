{
 "cells": [
  {
   "cell_type": "markdown",
   "id": "dfda3fd2-2761-42e8-92b5-f5047d05ec39",
   "metadata": {},
   "source": [
    "# Sales Tax Calculator\n",
    "\n",
    "Write a program `sales_tax_calculator(price, tax_rate)` that calculates the total cost of a purchase including sales tax. The program should ask for the item's price and the sales tax rate. It should then calculate and print the total cost, formatted to two decimal places.\n",
    "\n",
    "Example:\n",
    "\n",
    "- Input:\n",
    "\n",
    "    - Price: `19.99`\n",
    "\n",
    "    - Tax Rate (as a decimal): `0.07`\n",
    "\n",
    "- Output: `Total cost: $21.39`"
   ]
  },
  {
   "cell_type": "markdown",
   "id": "f279b93e-4f04-485d-8410-8ee7ed75d674",
   "metadata": {},
   "source": [
    "---\n",
    "Hint: If you want to print a float number with 2 decimals, use a **modifier**, like `.2f` inside a placeholder!\n",
    "\n",
    "Example:\n",
    "\n",
    "```python\n",
    "price = 59.1254\n",
    "txt = f\"The price is {price:.2f} dollars\"\n",
    "print(txt) # \"The price is 59.12 dollars\"\n",
    "```\n",
    "\n",
    "---"
   ]
  },
  {
   "cell_type": "code",
   "execution_count": null,
   "id": "9f32c5f5-77dd-4cfe-9953-f1ed05c63a2d",
   "metadata": {},
   "outputs": [],
   "source": [
    "def sales_tax_calculator(price, tax_rate):\n",
    "    # your code here\n",
    "    # ...\n"
   ]
  },
  {
   "cell_type": "code",
   "execution_count": null,
   "id": "67232e98-9dd5-43e8-af2d-4a89954ee0cd",
   "metadata": {},
   "outputs": [
    {
     "name": "stdout",
     "output_type": "stream",
     "text": [
      "Total cost: $21.39\n"
     ]
    }
   ],
   "source": [
    "sales_tax_calculator(19.99, 0.07)"
   ]
  }
 ],
 "metadata": {
  "kernelspec": {
   "display_name": "Python 3 (ipykernel)",
   "language": "python",
   "name": "python3"
  },
  "language_info": {
   "codemirror_mode": {
    "name": "ipython",
    "version": 3
   },
   "file_extension": ".py",
   "mimetype": "text/x-python",
   "name": "python",
   "nbconvert_exporter": "python",
   "pygments_lexer": "ipython3",
   "version": "3.12.3"
  }
 },
 "nbformat": 4,
 "nbformat_minor": 5
}
