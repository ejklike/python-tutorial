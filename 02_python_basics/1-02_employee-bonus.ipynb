{
 "cells": [
  {
   "cell_type": "markdown",
   "id": "21eca199-aecc-4bdd-a611-59192a376a28",
   "metadata": {},
   "source": [
    "# Employee Bonus\n",
    "\n",
    "Write a function `employee_bonus()` that calculates an employee's bonus. The function should take the employee's ID number (an integer) as input. If the ID number is odd, the bonus is `$100`. If it is even, the bonus is `$50`. The function should return the bonus amount.\n",
    "\n",
    "Example:\n",
    "\n",
    "- Input:\n",
    "\n",
    "    - Employee ID: `101`\n",
    "\n",
    "    - Output: `100`\n",
    "\n",
    "- Input:\n",
    "\n",
    "    - Employee ID: `102`\n",
    "\n",
    "- Output: `50`"
   ]
  },
  {
   "cell_type": "code",
   "execution_count": 2,
   "id": "e13b32f3-ab00-40e3-a90c-e5eaf330efd0",
   "metadata": {},
   "outputs": [],
   "source": [
    "def employee_bonus(employee_id):\n",
    "    # your code here\n",
    "    # ...\n"
   ]
  },
  {
   "cell_type": "code",
   "execution_count": 3,
   "id": "07fc9730-3a4c-4c49-97a6-3249528ae097",
   "metadata": {},
   "outputs": [
    {
     "name": "stdout",
     "output_type": "stream",
     "text": [
      "100\n"
     ]
    }
   ],
   "source": [
    "print(employee_bonus(101))"
   ]
  },
  {
   "cell_type": "code",
   "execution_count": 4,
   "id": "8587bd34-c7f5-4435-a0e5-cc7575fe2643",
   "metadata": {},
   "outputs": [
    {
     "name": "stdout",
     "output_type": "stream",
     "text": [
      "50\n"
     ]
    }
   ],
   "source": [
    "print(employee_bonus(102))"
   ]
  }
 ],
 "metadata": {
  "kernelspec": {
   "display_name": "Python 3 (ipykernel)",
   "language": "python",
   "name": "python3"
  },
  "language_info": {
   "codemirror_mode": {
    "name": "ipython",
    "version": 3
   },
   "file_extension": ".py",
   "mimetype": "text/x-python",
   "name": "python",
   "nbconvert_exporter": "python",
   "pygments_lexer": "ipython3",
   "version": "3.12.3"
  }
 },
 "nbformat": 4,
 "nbformat_minor": 5
}
